{
  "nbformat": 4,
  "nbformat_minor": 0,
  "metadata": {
    "colab": {
      "name": "HAND _WRITTEN.ipynb",
      "provenance": [],
      "collapsed_sections": []
    },
    "kernelspec": {
      "name": "python3",
      "display_name": "Python 3"
    },
    "language_info": {
      "name": "python"
    }
  },
  "cells": [
    {
      "cell_type": "markdown",
      "metadata": {
        "id": "xFHRnEfm6jzW"
      },
      "source": [
        "importing the packages\n"
      ]
    },
    {
      "cell_type": "code",
      "metadata": {
        "id": "rqaRhliO4N1S"
      },
      "source": [
        "import numpy as np\n",
        "import pandas as pd"
      ],
      "execution_count": 14,
      "outputs": []
    },
    {
      "cell_type": "markdown",
      "metadata": {
        "id": "AIqzFFsn6syo"
      },
      "source": [
        "IMPORTING THE SYSTEM PATH\n"
      ]
    },
    {
      "cell_type": "code",
      "metadata": {
        "colab": {
          "base_uri": "https://localhost:8080/"
        },
        "id": "Y6bzj5XL4jVB",
        "outputId": "e91e610a-19b5-4399-f526-df96feb1111d"
      },
      "source": [
        "import os\n",
        "print(os.listdir())"
      ],
      "execution_count": 2,
      "outputs": [
        {
          "output_type": "stream",
          "name": "stdout",
          "text": [
            "['.config', 'sample_data']\n"
          ]
        }
      ]
    },
    {
      "cell_type": "markdown",
      "metadata": {
        "id": "1iLNxq9T6zGw"
      },
      "source": [
        "IMPORTING THE TENSORFLOW AND KERAS"
      ]
    },
    {
      "cell_type": "code",
      "metadata": {
        "id": "Vy0d2Y0a4kUi"
      },
      "source": [
        "import tensorflow.keras as keras\n",
        "import tensorflow as tf\n",
        "from sklearn.model_selection import train_test_split\n",
        "from sklearn.metrics import confusion_matrix\n",
        "from sklearn.metrics import accuracy_score"
      ],
      "execution_count": 3,
      "outputs": []
    },
    {
      "cell_type": "markdown",
      "metadata": {
        "id": "gfEETea87IRb"
      },
      "source": [
        "LOADING AND SPLITING THE DATA"
      ]
    },
    {
      "cell_type": "code",
      "metadata": {
        "colab": {
          "base_uri": "https://localhost:8080/"
        },
        "id": "cCLFteFc4pcm",
        "outputId": "4663a690-a9a2-46a7-9a38-65b2ad0351b0"
      },
      "source": [
        "mnist = tf.keras.datasets.mnist\n",
        "(x_train, y_train),(x_test, y_test) = mnist.load_data()"
      ],
      "execution_count": 4,
      "outputs": [
        {
          "output_type": "stream",
          "name": "stdout",
          "text": [
            "Downloading data from https://storage.googleapis.com/tensorflow/tf-keras-datasets/mnist.npz\n",
            "11493376/11490434 [==============================] - 0s 0us/step\n",
            "11501568/11490434 [==============================] - 0s 0us/step\n"
          ]
        }
      ]
    },
    {
      "cell_type": "markdown",
      "metadata": {
        "id": "OQhahf3Z7fio"
      },
      "source": [
        "IMPORTING MATPLOTLIB FOR VISUALIZATION"
      ]
    },
    {
      "cell_type": "code",
      "metadata": {
        "colab": {
          "base_uri": "https://localhost:8080/",
          "height": 265
        },
        "id": "yONRnLcJ4tbW",
        "outputId": "b385535d-ffa9-4800-ae68-413647978eb1"
      },
      "source": [
        "import matplotlib.pyplot as plt\n",
        "plt.imshow(x_train[0],cmap=plt.cm.binary)\n",
        "plt.show()"
      ],
      "execution_count": 5,
      "outputs": [
        {
          "output_type": "display_data",
          "data": {
            "image/png": "[encoded data removed]",
            "text/plain": [
              "<Figure size 432x288 with 1 Axes>"
            ]
          },
          "metadata": {
            "needs_background": "light"
          }
        }
      ]
    },
    {
      "cell_type": "markdown",
      "metadata": {
        "id": "_5kTXMrL7mRA"
      },
      "source": [
        "TRAINING AND SPLITING THE DATA"
      ]
    },
    {
      "cell_type": "code",
      "metadata": {
        "colab": {
          "base_uri": "https://localhost:8080/"
        },
        "id": "VZZg7MxO44rZ",
        "outputId": "80f168ee-e1ca-49f8-9981-52e31976ff8c"
      },
      "source": [
        "x_train = tf.keras.utils.normalize(x_train, axis=1)\n",
        "x_test = tf.keras.utils.normalize(x_test, axis=1)\n",
        "\n",
        "print(x_train[0].shape)"
      ],
      "execution_count": 6,
      "outputs": [
        {
          "output_type": "stream",
          "name": "stdout",
          "text": [
            "(28, 28)\n"
          ]
        }
      ]
    },
    {
      "cell_type": "code",
      "metadata": {
        "colab": {
          "base_uri": "https://localhost:8080/",
          "height": 265
        },
        "id": "m_q3AKyA4-Sk",
        "outputId": "407ea55e-6727-4159-ca88-6b7c7f337e42"
      },
      "source": [
        "plt.imshow(x_train[0],cmap=plt.cm.binary)\n",
        "plt.show()"
      ],
      "execution_count": 7,
      "outputs": [
        {
          "output_type": "display_data",
          "data": {
            "image/png": "[encoded data removed]",
            "text/plain": [
              "<Figure size 432x288 with 1 Axes>"
            ]
          },
          "metadata": {
            "needs_background": "light"
          }
        }
      ]
    },
    {
      "cell_type": "markdown",
      "metadata": {
        "id": "uTQpWwEt71bg"
      },
      "source": [
        "IMPLEMENTING THE LAYERS AND ACTIVATION OF RELU & SOFTMAX"
      ]
    },
    {
      "cell_type": "code",
      "metadata": {
        "id": "bOW4GIbD4_C_"
      },
      "source": [
        "model = tf.keras.models.Sequential()\n",
        "\n",
        "model.add(tf.keras.layers.Flatten())\n",
        "model.add(tf.keras.layers.Dense(128, activation=tf.nn.relu))\n",
        "model.add(tf.keras.layers.Dense(512, activation=tf.nn.relu))\n",
        "model.add(tf.keras.layers.Dense(1024, activation=tf.nn.relu))\n",
        "model.add(tf.keras.layers.Dense(512, activation=tf.nn.relu))\n",
        "model.add(tf.keras.layers.Dense(128, activation=tf.nn.relu))\n",
        "model.add(tf.keras.layers.Dense(10, activation=tf.nn.softmax))"
      ],
      "execution_count": 8,
      "outputs": []
    },
    {
      "cell_type": "markdown",
      "metadata": {
        "id": "s6ETx_Jy8K4Y"
      },
      "source": [
        "FITTING THE MODEL AND CHECKING THE EPOCHS"
      ]
    },
    {
      "cell_type": "code",
      "metadata": {
        "colab": {
          "base_uri": "https://localhost:8080/"
        },
        "id": "1c75SmOW5DCl",
        "outputId": "7b6e551a-f437-40e0-eb30-e9f22bc5ee15"
      },
      "source": [
        "model.compile(optimizer='adam',\n",
        "              loss='sparse_categorical_crossentropy',\n",
        "              metrics=['accuracy'])\n",
        "\n",
        "model.fit(x_train, y_train, epochs=10)"
      ],
      "execution_count": 9,
      "outputs": [
        {
          "output_type": "stream",
          "name": "stdout",
          "text": [
            "Epoch 1/10\n",
            "1875/1875 [==============================] - 23s 12ms/step - loss: 0.2527 - accuracy: 0.9239\n",
            "Epoch 2/10\n",
            "1875/1875 [==============================] - 22s 12ms/step - loss: 0.1216 - accuracy: 0.9652\n",
            "Epoch 3/10\n",
            "1875/1875 [==============================] - 22s 12ms/step - loss: 0.0905 - accuracy: 0.9736\n",
            "Epoch 4/10\n",
            "1875/1875 [==============================] - 22s 12ms/step - loss: 0.0723 - accuracy: 0.9790\n",
            "Epoch 5/10\n",
            "1875/1875 [==============================] - 22s 12ms/step - loss: 0.0594 - accuracy: 0.9829\n",
            "Epoch 6/10\n",
            "1875/1875 [==============================] - 22s 12ms/step - loss: 0.0497 - accuracy: 0.9859\n",
            "Epoch 7/10\n",
            "1875/1875 [==============================] - 22s 12ms/step - loss: 0.0455 - accuracy: 0.9871\n",
            "Epoch 8/10\n",
            "1875/1875 [==============================] - 22s 12ms/step - loss: 0.0426 - accuracy: 0.9886\n",
            "Epoch 9/10\n",
            "1875/1875 [==============================] - 23s 12ms/step - loss: 0.0345 - accuracy: 0.9898\n",
            "Epoch 10/10\n",
            "1875/1875 [==============================] - 22s 12ms/step - loss: 0.0301 - accuracy: 0.9912\n"
          ]
        },
        {
          "output_type": "execute_result",
          "data": {
            "text/plain": [
              "<keras.callbacks.History at 0x7fab32d1bd10>"
            ]
          },
          "metadata": {},
          "execution_count": 9
        }
      ]
    },
    {
      "cell_type": "code",
      "metadata": {
        "colab": {
          "base_uri": "https://localhost:8080/"
        },
        "id": "HzScN9JD5G2p",
        "outputId": "b672bb74-70da-4445-e4e4-b0ef67f06a5f"
      },
      "source": [
        "val_loss, val_acc = model.evaluate(x_test, y_test)\n",
        "print(val_loss)\n",
        "print(val_acc)"
      ],
      "execution_count": 10,
      "outputs": [
        {
          "output_type": "stream",
          "name": "stdout",
          "text": [
            "313/313 [==============================] - 1s 3ms/step - loss: 0.1531 - accuracy: 0.9716\n",
            "0.1531091034412384\n",
            "0.9715999960899353\n"
          ]
        }
      ]
    },
    {
      "cell_type": "markdown",
      "metadata": {
        "id": "M6Uri_aq8Qqz"
      },
      "source": [
        "MODEL ACCURACY"
      ]
    },
    {
      "cell_type": "code",
      "metadata": {
        "colab": {
          "base_uri": "https://localhost:8080/"
        },
        "id": "EcmIXJ4c6KDo",
        "outputId": "38dd0110-44fa-4ef4-f595-91da93042365"
      },
      "source": [
        "y_predict = model.predict(x_test)\n",
        "y_pred = []\n",
        "for i in range(0,10000):\n",
        "    y_pred.append(np.argmax(y_predict[i]))\n",
        "cm = confusion_matrix(y_test,y_pred)\n",
        "\n",
        "print(accuracy_score(y_test, y_pred))"
      ],
      "execution_count": 13,
      "outputs": [
        {
          "output_type": "stream",
          "name": "stdout",
          "text": [
            "0.9716\n"
          ]
        }
      ]
    }
  ]
}